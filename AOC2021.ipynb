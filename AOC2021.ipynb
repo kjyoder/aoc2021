{
 "cells": [
  {
   "cell_type": "markdown",
   "id": "7cc7c5ba-5991-4863-a2a0-bfee07342401",
   "metadata": {},
   "source": [
    "# Day 1\n",
    "\n",
    "## Part 1\n",
    "Count number of times depth reading differs from previous"
   ]
  },
  {
   "cell_type": "code",
   "execution_count": 1,
   "id": "229cc68f-53d5-41be-9fe0-da21d290d78a",
   "metadata": {},
   "outputs": [
    {
     "data": {
      "text/html": [
       "<div>\n",
       "<style scoped>\n",
       "    .dataframe tbody tr th:only-of-type {\n",
       "        vertical-align: middle;\n",
       "    }\n",
       "\n",
       "    .dataframe tbody tr th {\n",
       "        vertical-align: top;\n",
       "    }\n",
       "\n",
       "    .dataframe thead th {\n",
       "        text-align: right;\n",
       "    }\n",
       "</style>\n",
       "<table border=\"1\" class=\"dataframe\">\n",
       "  <thead>\n",
       "    <tr style=\"text-align: right;\">\n",
       "      <th></th>\n",
       "      <th>depth</th>\n",
       "    </tr>\n",
       "  </thead>\n",
       "  <tbody>\n",
       "    <tr>\n",
       "      <th>0</th>\n",
       "      <td>198</td>\n",
       "    </tr>\n",
       "    <tr>\n",
       "      <th>1</th>\n",
       "      <td>208</td>\n",
       "    </tr>\n",
       "    <tr>\n",
       "      <th>2</th>\n",
       "      <td>209</td>\n",
       "    </tr>\n",
       "    <tr>\n",
       "      <th>3</th>\n",
       "      <td>212</td>\n",
       "    </tr>\n",
       "    <tr>\n",
       "      <th>4</th>\n",
       "      <td>213</td>\n",
       "    </tr>\n",
       "  </tbody>\n",
       "</table>\n",
       "</div>"
      ],
      "text/plain": [
       "   depth\n",
       "0    198\n",
       "1    208\n",
       "2    209\n",
       "3    212\n",
       "4    213"
      ]
     },
     "execution_count": 1,
     "metadata": {},
     "output_type": "execute_result"
    }
   ],
   "source": [
    "import pandas as pd\n",
    "\n",
    "d = pd.read_csv('data/aoc-1.1.txt', names=['depth'])\n",
    "d.head()"
   ]
  },
  {
   "cell_type": "code",
   "execution_count": 2,
   "id": "57f8b0ed-93d4-44fe-bebe-76d0e2f5cb6f",
   "metadata": {},
   "outputs": [
    {
     "data": {
      "text/plain": [
       "1791"
      ]
     },
     "execution_count": 2,
     "metadata": {},
     "output_type": "execute_result"
    }
   ],
   "source": [
    "d['prev'] = d.shift(1)\n",
    "d['increase'] = d['depth'] > d['prev']\n",
    "d.increase.sum()"
   ]
  },
  {
   "cell_type": "markdown",
   "id": "d8336d69-9aa5-4d49-9070-ca4c8d0a6bd2",
   "metadata": {},
   "source": [
    "## Part 2\n",
    "Now use the sum of a moving 3-measurement window"
   ]
  },
  {
   "cell_type": "code",
   "execution_count": 19,
   "id": "973a9a71-c07f-4d0f-8332-028bc97f4ff8",
   "metadata": {},
   "outputs": [
    {
     "data": {
      "text/plain": [
       "1822"
      ]
     },
     "execution_count": 19,
     "metadata": {},
     "output_type": "execute_result"
    }
   ],
   "source": [
    "d = pd.read_csv('data/aoc-1.1.txt', names=['depth'])\n",
    "d['prev'] = d.shift(1)\n",
    "d['prev2'] = d['prev'].shift(1)\n",
    "d['block'] = d.iloc[:, 0:3].sum(axis=1) # sum the first three columns\n",
    "d.dropna(inplace=True) # remove rows without valid block scores\n",
    "d['pblock'] = d['block'].shift(1)\n",
    "d['block_inc'] = d['block'] > d['pblock']\n",
    "d.block_inc.sum()"
   ]
  },
  {
   "cell_type": "markdown",
   "id": "0e4c0b70-2820-44d9-9d96-427ecfb39897",
   "metadata": {},
   "source": [
    "# Day 2: Dive!"
   ]
  },
  {
   "cell_type": "code",
   "execution_count": 4,
   "id": "14a1136f-7bfb-4500-be63-889ff2d27faa",
   "metadata": {},
   "outputs": [
    {
     "data": {
      "text/html": [
       "<div>\n",
       "<style scoped>\n",
       "    .dataframe tbody tr th:only-of-type {\n",
       "        vertical-align: middle;\n",
       "    }\n",
       "\n",
       "    .dataframe tbody tr th {\n",
       "        vertical-align: top;\n",
       "    }\n",
       "\n",
       "    .dataframe thead th {\n",
       "        text-align: right;\n",
       "    }\n",
       "</style>\n",
       "<table border=\"1\" class=\"dataframe\">\n",
       "  <thead>\n",
       "    <tr style=\"text-align: right;\">\n",
       "      <th></th>\n",
       "      <th>direction</th>\n",
       "      <th>distance</th>\n",
       "    </tr>\n",
       "  </thead>\n",
       "  <tbody>\n",
       "    <tr>\n",
       "      <th>0</th>\n",
       "      <td>forward</td>\n",
       "      <td>9</td>\n",
       "    </tr>\n",
       "    <tr>\n",
       "      <th>1</th>\n",
       "      <td>forward</td>\n",
       "      <td>7</td>\n",
       "    </tr>\n",
       "    <tr>\n",
       "      <th>2</th>\n",
       "      <td>down</td>\n",
       "      <td>7</td>\n",
       "    </tr>\n",
       "    <tr>\n",
       "      <th>3</th>\n",
       "      <td>down</td>\n",
       "      <td>3</td>\n",
       "    </tr>\n",
       "    <tr>\n",
       "      <th>4</th>\n",
       "      <td>forward</td>\n",
       "      <td>2</td>\n",
       "    </tr>\n",
       "  </tbody>\n",
       "</table>\n",
       "</div>"
      ],
      "text/plain": [
       "  direction  distance\n",
       "0   forward         9\n",
       "1   forward         7\n",
       "2      down         7\n",
       "3      down         3\n",
       "4   forward         2"
      ]
     },
     "execution_count": 4,
     "metadata": {},
     "output_type": "execute_result"
    }
   ],
   "source": [
    "import pandas as pd\n",
    "\n",
    "d = pd.read_csv('data/aoc-2.txt', names=['direction', 'distance'], delim_whitespace=True)\n",
    "d.head()"
   ]
  },
  {
   "cell_type": "code",
   "execution_count": 9,
   "id": "7fa789bd-7a46-47c0-bd83-01e510612ab1",
   "metadata": {},
   "outputs": [
    {
     "data": {
      "text/plain": [
       "1882980"
      ]
     },
     "execution_count": 9,
     "metadata": {},
     "output_type": "execute_result"
    }
   ],
   "source": [
    "d_horizontal = d['distance'][d['direction'] == 'forward'].sum()\n",
    "d_up = d['distance'][d['direction'] == 'up'].sum()\n",
    "d_down = d['distance'][d['direction'] == 'down'].sum()\n",
    "d_vertical = d_down - d_up\n",
    "d_horizontal * d_vertical"
   ]
  },
  {
   "cell_type": "markdown",
   "id": "aad47c25-4d81-44da-a406-cf8f7d1a135a",
   "metadata": {},
   "source": [
    "## Part 2\n",
    "We actually need to track `aim`\n",
    "* `down X` *increases* aim by `X`\n",
    "* `up X` *decreases* aim by `X`\n",
    "* `forward X` (1) increases horizontal positional by `X` and (2) increases depth by `aim` *multiplied* by `X`"
   ]
  },
  {
   "cell_type": "code",
   "execution_count": 13,
   "id": "b6bf8591-ba5b-45f3-aec6-db772b1f2a4e",
   "metadata": {},
   "outputs": [
    {
     "data": {
      "text/plain": [
       "1971232560"
      ]
     },
     "execution_count": 13,
     "metadata": {},
     "output_type": "execute_result"
    }
   ],
   "source": [
    "aim = 0\n",
    "dist = 0\n",
    "depth = 0\n",
    "\n",
    "for ii in d.index:\n",
    "    direction = d['direction'][ii]\n",
    "    X = d['distance'][ii]\n",
    "    if direction == 'forward':\n",
    "        dist += X\n",
    "        depth += aim * X\n",
    "    elif direction == 'up':\n",
    "        aim -= X\n",
    "    else:\n",
    "        aim += X\n",
    "dist * depth"
   ]
  },
  {
   "cell_type": "markdown",
   "id": "29f18df5-6807-4788-92f9-0bda2b957faf",
   "metadata": {},
   "source": [
    "# Day 3: Binary Diagnostics\n",
    "\n",
    "The report is rows of binary values. The most common value in each column is the `gamma` and the least common value in each column is the `epsilon`. Multiplying these numbers returns the power consumption."
   ]
  },
  {
   "cell_type": "code",
   "execution_count": 82,
   "id": "9df22552-367d-4948-941e-2241f7259530",
   "metadata": {},
   "outputs": [
    {
     "data": {
      "text/html": [
       "<div>\n",
       "<style scoped>\n",
       "    .dataframe tbody tr th:only-of-type {\n",
       "        vertical-align: middle;\n",
       "    }\n",
       "\n",
       "    .dataframe tbody tr th {\n",
       "        vertical-align: top;\n",
       "    }\n",
       "\n",
       "    .dataframe thead th {\n",
       "        text-align: right;\n",
       "    }\n",
       "</style>\n",
       "<table border=\"1\" class=\"dataframe\">\n",
       "  <thead>\n",
       "    <tr style=\"text-align: right;\">\n",
       "      <th></th>\n",
       "      <th>report</th>\n",
       "    </tr>\n",
       "  </thead>\n",
       "  <tbody>\n",
       "    <tr>\n",
       "      <th>0</th>\n",
       "      <td>011110011110</td>\n",
       "    </tr>\n",
       "    <tr>\n",
       "      <th>1</th>\n",
       "      <td>101101001111</td>\n",
       "    </tr>\n",
       "    <tr>\n",
       "      <th>2</th>\n",
       "      <td>000000010101</td>\n",
       "    </tr>\n",
       "    <tr>\n",
       "      <th>3</th>\n",
       "      <td>100111001010</td>\n",
       "    </tr>\n",
       "    <tr>\n",
       "      <th>4</th>\n",
       "      <td>110000011010</td>\n",
       "    </tr>\n",
       "  </tbody>\n",
       "</table>\n",
       "</div>"
      ],
      "text/plain": [
       "         report\n",
       "0  011110011110\n",
       "1  101101001111\n",
       "2  000000010101\n",
       "3  100111001010\n",
       "4  110000011010"
      ]
     },
     "execution_count": 82,
     "metadata": {},
     "output_type": "execute_result"
    }
   ],
   "source": [
    "import numpy as np\n",
    "import pandas as pd\n",
    "\n",
    "d = pd.read_csv('data/aoc-3.txt', names=['report'], dtype='str')\n",
    "d.head()"
   ]
  },
  {
   "cell_type": "code",
   "execution_count": 83,
   "id": "a52e6b69-c2a2-4196-963a-e5ba462c7bb6",
   "metadata": {},
   "outputs": [
    {
     "data": {
      "text/html": [
       "<div>\n",
       "<style scoped>\n",
       "    .dataframe tbody tr th:only-of-type {\n",
       "        vertical-align: middle;\n",
       "    }\n",
       "\n",
       "    .dataframe tbody tr th {\n",
       "        vertical-align: top;\n",
       "    }\n",
       "\n",
       "    .dataframe thead th {\n",
       "        text-align: right;\n",
       "    }\n",
       "</style>\n",
       "<table border=\"1\" class=\"dataframe\">\n",
       "  <thead>\n",
       "    <tr style=\"text-align: right;\">\n",
       "      <th></th>\n",
       "      <th>0</th>\n",
       "      <th>1</th>\n",
       "      <th>2</th>\n",
       "      <th>3</th>\n",
       "      <th>4</th>\n",
       "      <th>5</th>\n",
       "      <th>6</th>\n",
       "      <th>7</th>\n",
       "      <th>8</th>\n",
       "      <th>9</th>\n",
       "      <th>10</th>\n",
       "      <th>11</th>\n",
       "    </tr>\n",
       "  </thead>\n",
       "  <tbody>\n",
       "    <tr>\n",
       "      <th>0</th>\n",
       "      <td>0</td>\n",
       "      <td>1</td>\n",
       "      <td>1</td>\n",
       "      <td>1</td>\n",
       "      <td>1</td>\n",
       "      <td>0</td>\n",
       "      <td>0</td>\n",
       "      <td>1</td>\n",
       "      <td>1</td>\n",
       "      <td>1</td>\n",
       "      <td>1</td>\n",
       "      <td>0</td>\n",
       "    </tr>\n",
       "    <tr>\n",
       "      <th>1</th>\n",
       "      <td>1</td>\n",
       "      <td>0</td>\n",
       "      <td>1</td>\n",
       "      <td>1</td>\n",
       "      <td>0</td>\n",
       "      <td>1</td>\n",
       "      <td>0</td>\n",
       "      <td>0</td>\n",
       "      <td>1</td>\n",
       "      <td>1</td>\n",
       "      <td>1</td>\n",
       "      <td>1</td>\n",
       "    </tr>\n",
       "    <tr>\n",
       "      <th>2</th>\n",
       "      <td>0</td>\n",
       "      <td>0</td>\n",
       "      <td>0</td>\n",
       "      <td>0</td>\n",
       "      <td>0</td>\n",
       "      <td>0</td>\n",
       "      <td>0</td>\n",
       "      <td>1</td>\n",
       "      <td>0</td>\n",
       "      <td>1</td>\n",
       "      <td>0</td>\n",
       "      <td>1</td>\n",
       "    </tr>\n",
       "    <tr>\n",
       "      <th>3</th>\n",
       "      <td>1</td>\n",
       "      <td>0</td>\n",
       "      <td>0</td>\n",
       "      <td>1</td>\n",
       "      <td>1</td>\n",
       "      <td>1</td>\n",
       "      <td>0</td>\n",
       "      <td>0</td>\n",
       "      <td>1</td>\n",
       "      <td>0</td>\n",
       "      <td>1</td>\n",
       "      <td>0</td>\n",
       "    </tr>\n",
       "    <tr>\n",
       "      <th>4</th>\n",
       "      <td>1</td>\n",
       "      <td>1</td>\n",
       "      <td>0</td>\n",
       "      <td>0</td>\n",
       "      <td>0</td>\n",
       "      <td>0</td>\n",
       "      <td>0</td>\n",
       "      <td>1</td>\n",
       "      <td>1</td>\n",
       "      <td>0</td>\n",
       "      <td>1</td>\n",
       "      <td>0</td>\n",
       "    </tr>\n",
       "  </tbody>\n",
       "</table>\n",
       "</div>"
      ],
      "text/plain": [
       "   0   1   2   3   4   5   6   7   8   9   10  11\n",
       "0   0   1   1   1   1   0   0   1   1   1   1   0\n",
       "1   1   0   1   1   0   1   0   0   1   1   1   1\n",
       "2   0   0   0   0   0   0   0   1   0   1   0   1\n",
       "3   1   0   0   1   1   1   0   0   1   0   1   0\n",
       "4   1   1   0   0   0   0   0   1   1   0   1   0"
      ]
     },
     "execution_count": 83,
     "metadata": {},
     "output_type": "execute_result"
    }
   ],
   "source": [
    "ds = d['report'].apply(lambda x: pd.Series(list(x)))\n",
    "ds = ds.astype(int)\n",
    "ds.head()"
   ]
  },
  {
   "cell_type": "code",
   "execution_count": 84,
   "id": "9c8310a6-696d-4e6b-b9b5-867766360a16",
   "metadata": {},
   "outputs": [
    {
     "data": {
      "text/plain": [
       "[0, 0, 0, 0, 1, 1, 0, 0, 0, 1, 1, 1]"
      ]
     },
     "execution_count": 84,
     "metadata": {},
     "output_type": "execute_result"
    }
   ],
   "source": [
    "gamma_digits"
   ]
  },
  {
   "cell_type": "code",
   "execution_count": 85,
   "id": "814374cb-b773-44bc-bc41-1452bb8108e9",
   "metadata": {},
   "outputs": [],
   "source": [
    "nrow, ncol = ds.shape\n",
    "gamma_digits = []\n",
    "epsilon_digits = []\n",
    "for col in range(ncol):\n",
    "    ones = ds[col].sum()\n",
    "    if ones > 500:\n",
    "        gamma_digits.append(1)\n",
    "        epsilon_digits.append(0)\n",
    "    else:\n",
    "        gamma_digits.append(0)\n",
    "        epsilon_digits.append(1)"
   ]
  },
  {
   "cell_type": "code",
   "execution_count": 86,
   "id": "1214457e-25aa-4d93-94e3-e683c24f38e8",
   "metadata": {},
   "outputs": [],
   "source": [
    "# convert binary to decimal\n",
    "gamma = 0\n",
    "epsilon = 0\n",
    "for ii in range(ncol):\n",
    "    gamma += gamma_digits[ncol-ii-1] * 2**(ii)\n",
    "    epsilon += epsilon_digits[ncol-ii-1] * 2**(ii)"
   ]
  },
  {
   "cell_type": "code",
   "execution_count": 87,
   "id": "0dd0203e-f942-434e-b0af-453c5566c6e1",
   "metadata": {},
   "outputs": [
    {
     "data": {
      "text/plain": [
       "775304"
      ]
     },
     "execution_count": 87,
     "metadata": {},
     "output_type": "execute_result"
    }
   ],
   "source": [
    "gamma*epsilon"
   ]
  },
  {
   "cell_type": "markdown",
   "id": "7e4f6bc1-f656-4007-954c-2fdb742678f5",
   "metadata": {
    "tags": []
   },
   "source": [
    "## Part 2\n",
    "Now verify `life support rating` which is `oxygen generater rating` * `CO2 scrubber rating`\n",
    "\n",
    "**oxygen generator rating**\n",
    "* determine most common value in current bit position and keep only number with that bit in that position. If `0` and `1` are equally common, keep `1`.\n",
    "\n",
    "**CO2 scrubber rating**\n",
    "* determine the least common value. If `0` and `1` are equally common, keep `0`.\n",
    "\n",
    "After determining *bit criteria*, discard numbers which don't match the bit criteria. If you only have one number left, stop, this is the rating. Otherwise, repeat, considering next bit to the right."
   ]
  },
  {
   "cell_type": "code",
   "execution_count": 111,
   "id": "42dd56b4-c8a7-418c-b349-2f179bac26cb",
   "metadata": {},
   "outputs": [
    {
     "name": "stdout",
     "output_type": "stream",
     "text": [
      "0\n",
      "1\n",
      "2\n",
      "3\n",
      "4\n",
      "5\n",
      "6\n",
      "7\n",
      "8\n",
      "9\n",
      "10\n",
      "11\n"
     ]
    }
   ],
   "source": [
    "def most_common(ser, target='o'):\n",
    "    n_length = ser.shape[0]\n",
    "    if ser.sum() > n_length/2:\n",
    "        return(1)\n",
    "    elif ser.sum() < n_length/2:\n",
    "        return(0)\n",
    "    if ser.sum() == n_length/2:\n",
    "        if target == 'o':\n",
    "            return(1)\n",
    "        else:\n",
    "            return(0)\n",
    "\n",
    "ds_all = ds.copy()\n",
    "\n",
    "oxy_val = 0\n",
    "col_id = 0\n",
    "rows_left = ds_all.shape[0]\n",
    "ds_oxy = ds_all.copy()\n",
    "while col_id < ncol and rows_left > 0:\n",
    "    print(col_id)\n",
    "    bit_val = most_common(ds_oxy[col_id])\n",
    "    ds_oxy = ds_oxy[ds_oxy[col_id] == bit_val]\n",
    "    rows_left = ds_oxy.shape[0]\n",
    "    col_id += 1"
   ]
  },
  {
   "cell_type": "code",
   "execution_count": 112,
   "id": "5ea66a27-c83a-40e7-802f-e14e845875bc",
   "metadata": {},
   "outputs": [
    {
     "data": {
      "text/html": [
       "<div>\n",
       "<style scoped>\n",
       "    .dataframe tbody tr th:only-of-type {\n",
       "        vertical-align: middle;\n",
       "    }\n",
       "\n",
       "    .dataframe tbody tr th {\n",
       "        vertical-align: top;\n",
       "    }\n",
       "\n",
       "    .dataframe thead th {\n",
       "        text-align: right;\n",
       "    }\n",
       "</style>\n",
       "<table border=\"1\" class=\"dataframe\">\n",
       "  <thead>\n",
       "    <tr style=\"text-align: right;\">\n",
       "      <th></th>\n",
       "      <th>0</th>\n",
       "      <th>1</th>\n",
       "      <th>2</th>\n",
       "      <th>3</th>\n",
       "      <th>4</th>\n",
       "      <th>5</th>\n",
       "      <th>6</th>\n",
       "      <th>7</th>\n",
       "      <th>8</th>\n",
       "      <th>9</th>\n",
       "      <th>10</th>\n",
       "      <th>11</th>\n",
       "    </tr>\n",
       "  </thead>\n",
       "  <tbody>\n",
       "    <tr>\n",
       "      <th>844</th>\n",
       "      <td>0</td>\n",
       "      <td>0</td>\n",
       "      <td>0</td>\n",
       "      <td>1</td>\n",
       "      <td>1</td>\n",
       "      <td>1</td>\n",
       "      <td>1</td>\n",
       "      <td>1</td>\n",
       "      <td>1</td>\n",
       "      <td>1</td>\n",
       "      <td>0</td>\n",
       "      <td>1</td>\n",
       "    </tr>\n",
       "  </tbody>\n",
       "</table>\n",
       "</div>"
      ],
      "text/plain": [
       "     0   1   2   3   4   5   6   7   8   9   10  11\n",
       "844   0   0   0   1   1   1   1   1   1   1   0   1"
      ]
     },
     "execution_count": 112,
     "metadata": {},
     "output_type": "execute_result"
    }
   ],
   "source": [
    "ds_oxy"
   ]
  },
  {
   "cell_type": "code",
   "execution_count": 119,
   "id": "4de6bdbf-6d7d-4120-8b64-d7b296d231d2",
   "metadata": {},
   "outputs": [],
   "source": [
    "def least_common(ser, target='o'):\n",
    "    n_length = ser.shape[0]\n",
    "    if ser.sum() < n_length/2:\n",
    "        return(1)\n",
    "    elif ser.sum() > n_length/2:\n",
    "        return(0)\n",
    "    if ser.sum() == n_length/2:\n",
    "        if target == 'o':\n",
    "            return(0)\n",
    "        else:\n",
    "            return(1)\n",
    "        \n",
    "co_val = 0\n",
    "col_id = 0\n",
    "rows_left = ds_all.shape[0]\n",
    "ds_co = ds_all.copy()\n",
    "while col_id < ncol and rows_left > 1:\n",
    "    bit_val = least_common(ds_co[col_id])\n",
    "    ds_co = ds_co[ds_co[col_id] == bit_val]\n",
    "    rows_left = ds_co.shape[0]\n",
    "    col_id += 1"
   ]
  },
  {
   "cell_type": "code",
   "execution_count": 121,
   "id": "0acbf682-efb0-4372-aa24-950aaba29496",
   "metadata": {},
   "outputs": [
    {
     "data": {
      "text/html": [
       "<div>\n",
       "<style scoped>\n",
       "    .dataframe tbody tr th:only-of-type {\n",
       "        vertical-align: middle;\n",
       "    }\n",
       "\n",
       "    .dataframe tbody tr th {\n",
       "        vertical-align: top;\n",
       "    }\n",
       "\n",
       "    .dataframe thead th {\n",
       "        text-align: right;\n",
       "    }\n",
       "</style>\n",
       "<table border=\"1\" class=\"dataframe\">\n",
       "  <thead>\n",
       "    <tr style=\"text-align: right;\">\n",
       "      <th></th>\n",
       "      <th>0</th>\n",
       "      <th>1</th>\n",
       "      <th>2</th>\n",
       "      <th>3</th>\n",
       "      <th>4</th>\n",
       "      <th>5</th>\n",
       "      <th>6</th>\n",
       "      <th>7</th>\n",
       "      <th>8</th>\n",
       "      <th>9</th>\n",
       "      <th>10</th>\n",
       "      <th>11</th>\n",
       "    </tr>\n",
       "  </thead>\n",
       "  <tbody>\n",
       "    <tr>\n",
       "      <th>639</th>\n",
       "      <td>1</td>\n",
       "      <td>0</td>\n",
       "      <td>1</td>\n",
       "      <td>0</td>\n",
       "      <td>1</td>\n",
       "      <td>0</td>\n",
       "      <td>0</td>\n",
       "      <td>0</td>\n",
       "      <td>0</td>\n",
       "      <td>1</td>\n",
       "      <td>0</td>\n",
       "      <td>1</td>\n",
       "    </tr>\n",
       "  </tbody>\n",
       "</table>\n",
       "</div>"
      ],
      "text/plain": [
       "     0   1   2   3   4   5   6   7   8   9   10  11\n",
       "639   1   0   1   0   1   0   0   0   0   1   0   1"
      ]
     },
     "execution_count": 121,
     "metadata": {},
     "output_type": "execute_result"
    }
   ],
   "source": [
    "ds_co"
   ]
  },
  {
   "cell_type": "code",
   "execution_count": 122,
   "id": "60c9cc5a-7094-4097-bfc5-9a3ff336509c",
   "metadata": {},
   "outputs": [],
   "source": [
    "oxy = 0\n",
    "co = 0\n",
    "for ii in range(ncol):\n",
    "    oxy += ds_oxy.iloc[0,ncol-ii-1] * 2**(ii)\n",
    "    co += ds_co.iloc[0, ncol-ii-1] * 2**(ii)"
   ]
  },
  {
   "cell_type": "code",
   "execution_count": 123,
   "id": "67d6ad2e-5b76-426b-953b-f93cdc0f1a1a",
   "metadata": {},
   "outputs": [
    {
     "data": {
      "text/plain": [
       "1370737"
      ]
     },
     "execution_count": 123,
     "metadata": {},
     "output_type": "execute_result"
    }
   ],
   "source": [
    "oxy*co"
   ]
  },
  {
   "cell_type": "code",
   "execution_count": null,
   "id": "48850e73-8a75-4901-9fe1-08bd0004006c",
   "metadata": {},
   "outputs": [],
   "source": []
  },
  {
   "cell_type": "code",
   "execution_count": null,
   "id": "2364f84b-f61e-4724-b1de-1353f17f87e0",
   "metadata": {},
   "outputs": [],
   "source": []
  },
  {
   "cell_type": "code",
   "execution_count": null,
   "id": "01704358-5c76-4763-a8e6-eeb44db18f63",
   "metadata": {},
   "outputs": [],
   "source": []
  },
  {
   "cell_type": "code",
   "execution_count": null,
   "id": "ce8fdc37-385c-4d9e-85d3-f45902976e7f",
   "metadata": {},
   "outputs": [],
   "source": []
  },
  {
   "cell_type": "code",
   "execution_count": null,
   "id": "668f5e80-5638-4e30-99ec-0cd2b0e1d190",
   "metadata": {},
   "outputs": [],
   "source": []
  },
  {
   "cell_type": "markdown",
   "id": "ce8388e2-04dc-4e59-b13a-a40ca830e1cb",
   "metadata": {},
   "source": [
    "# Day 7: The Treachery of Whales\n",
    "\n",
    "A whale is coming to eat the submarine. We need to get all of the crab submarines to the same position so they can blast a hole the ocean floor and grant us access to the underground tunnels in which to hide. But, we need the most fuel-efficient position to align on."
   ]
  },
  {
   "cell_type": "code",
   "execution_count": 131,
   "id": "c3f68108-b801-418f-a61e-702c8eea27cc",
   "metadata": {},
   "outputs": [
    {
     "data": {
      "text/html": [
       "<div>\n",
       "<style scoped>\n",
       "    .dataframe tbody tr th:only-of-type {\n",
       "        vertical-align: middle;\n",
       "    }\n",
       "\n",
       "    .dataframe tbody tr th {\n",
       "        vertical-align: top;\n",
       "    }\n",
       "\n",
       "    .dataframe thead th {\n",
       "        text-align: right;\n",
       "    }\n",
       "</style>\n",
       "<table border=\"1\" class=\"dataframe\">\n",
       "  <thead>\n",
       "    <tr style=\"text-align: right;\">\n",
       "      <th></th>\n",
       "      <th>0</th>\n",
       "      <th>1</th>\n",
       "      <th>2</th>\n",
       "      <th>3</th>\n",
       "      <th>4</th>\n",
       "      <th>5</th>\n",
       "      <th>6</th>\n",
       "      <th>7</th>\n",
       "      <th>8</th>\n",
       "      <th>9</th>\n",
       "      <th>...</th>\n",
       "      <th>990</th>\n",
       "      <th>991</th>\n",
       "      <th>992</th>\n",
       "      <th>993</th>\n",
       "      <th>994</th>\n",
       "      <th>995</th>\n",
       "      <th>996</th>\n",
       "      <th>997</th>\n",
       "      <th>998</th>\n",
       "      <th>999</th>\n",
       "    </tr>\n",
       "  </thead>\n",
       "  <tbody>\n",
       "    <tr>\n",
       "      <th>0</th>\n",
       "      <td>1101</td>\n",
       "      <td>1</td>\n",
       "      <td>29</td>\n",
       "      <td>67</td>\n",
       "      <td>1102</td>\n",
       "      <td>0</td>\n",
       "      <td>1</td>\n",
       "      <td>65</td>\n",
       "      <td>1008</td>\n",
       "      <td>65</td>\n",
       "      <td>...</td>\n",
       "      <td>1071</td>\n",
       "      <td>538</td>\n",
       "      <td>1242</td>\n",
       "      <td>1247</td>\n",
       "      <td>116</td>\n",
       "      <td>117</td>\n",
       "      <td>1638</td>\n",
       "      <td>675</td>\n",
       "      <td>498</td>\n",
       "      <td>570</td>\n",
       "    </tr>\n",
       "  </tbody>\n",
       "</table>\n",
       "<p>1 rows × 1000 columns</p>\n",
       "</div>"
      ],
      "text/plain": [
       "    0    1    2    3     4    5    6    7     8    9    ...   990  991   992  \\\n",
       "0  1101    1   29   67  1102    0    1   65  1008   65  ...  1071  538  1242   \n",
       "\n",
       "    993  994  995   996  997  998  999  \n",
       "0  1247  116  117  1638  675  498  570  \n",
       "\n",
       "[1 rows x 1000 columns]"
      ]
     },
     "execution_count": 131,
     "metadata": {},
     "output_type": "execute_result"
    }
   ],
   "source": [
    "d = pd.read_csv('data/aoc-7.txt', header=None)\n",
    "d.head()"
   ]
  },
  {
   "cell_type": "code",
   "execution_count": 141,
   "id": "afc738d4-fa11-4dcd-9c5a-db3a5bbfabbd",
   "metadata": {},
   "outputs": [
    {
     "data": {
      "text/plain": [
       "(1000,)"
      ]
     },
     "execution_count": 141,
     "metadata": {},
     "output_type": "execute_result"
    }
   ],
   "source": [
    "d_val = np.array(d.iloc[0])\n",
    "d_val.shape"
   ]
  },
  {
   "cell_type": "code",
   "execution_count": 196,
   "id": "8663d4dc-9b29-4c3b-bac6-09cbbef52f60",
   "metadata": {},
   "outputs": [
    {
     "data": {
      "text/plain": [
       "355764.0"
      ]
     },
     "execution_count": 196,
     "metadata": {},
     "output_type": "execute_result"
    }
   ],
   "source": [
    "# brute force\n",
    "def check_dists(d, val):\n",
    "    dd = d - val\n",
    "    return(np.abs(dd).sum())\n",
    "\n",
    "n_crab = d_val.shape[0]\n",
    "test_range = d_val.max() - d_val.min()\n",
    "\n",
    "tests = np.zeros(test_range)\n",
    "for ii in range(d_val.min(), d_val.max()):\n",
    "    tests[ii] = check_dists(d_val, ii)\n",
    "tests.min()"
   ]
  },
  {
   "cell_type": "code",
   "execution_count": 217,
   "id": "f2e3c66a-5c2d-4266-94fd-c72d0f4ad8c2",
   "metadata": {},
   "outputs": [
    {
     "data": {
      "text/plain": [
       "355764.0"
      ]
     },
     "execution_count": 217,
     "metadata": {},
     "output_type": "execute_result"
    }
   ],
   "source": [
    "# Also, you can always just start at the median\n",
    "check_dists(d_val, np.percentile(d_val, 50))"
   ]
  },
  {
   "cell_type": "markdown",
   "id": "4211f9de-39de-41bc-bf58-2862eb79d933",
   "metadata": {},
   "source": [
    "## Part 2\n",
    "Whoops, looks like the crabs actually need to use more fuel for each move. The first move costs 1 fuel, the second costs 2, etc."
   ]
  },
  {
   "cell_type": "code",
   "execution_count": 203,
   "id": "db371120-fd25-4007-9db8-b60eb498cc56",
   "metadata": {},
   "outputs": [
    {
     "data": {
      "text/plain": [
       "99634572.0"
      ]
     },
     "execution_count": 203,
     "metadata": {},
     "output_type": "execute_result"
    }
   ],
   "source": [
    "def check_dist2(d, val):\n",
    "    d1 = np.abs(d - val)\n",
    "    d_adj = (d1*(d1+1))/2\n",
    "    return(d_adj.sum())\n",
    "\n",
    "tests = np.zeros(test_range)\n",
    "for ii in range(d_val.min(), d_val.max()):\n",
    "    tests[ii] = check_dist2(d_val, ii)\n",
    "tests.min()"
   ]
  },
  {
   "cell_type": "code",
   "execution_count": null,
   "id": "c465fe32-8e61-4eec-a9f7-eddfd2a928e9",
   "metadata": {},
   "outputs": [],
   "source": []
  }
 ],
 "metadata": {
  "kernelspec": {
   "display_name": "Python 3",
   "language": "python",
   "name": "python3"
  },
  "language_info": {
   "codemirror_mode": {
    "name": "ipython",
    "version": 3
   },
   "file_extension": ".py",
   "mimetype": "text/x-python",
   "name": "python",
   "nbconvert_exporter": "python",
   "pygments_lexer": "ipython3",
   "version": "3.7.9"
  }
 },
 "nbformat": 4,
 "nbformat_minor": 5
}
