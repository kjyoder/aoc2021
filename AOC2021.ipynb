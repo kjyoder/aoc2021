{
 "cells": [
  {
   "cell_type": "markdown",
   "id": "7cc7c5ba-5991-4863-a2a0-bfee07342401",
   "metadata": {},
   "source": [
    "# Day 1\n",
    "\n",
    "## Part 1\n",
    "Count number of times depth reading differs from previous"
   ]
  },
  {
   "cell_type": "code",
   "execution_count": 1,
   "id": "229cc68f-53d5-41be-9fe0-da21d290d78a",
   "metadata": {},
   "outputs": [
    {
     "data": {
      "text/html": [
       "<div>\n",
       "<style scoped>\n",
       "    .dataframe tbody tr th:only-of-type {\n",
       "        vertical-align: middle;\n",
       "    }\n",
       "\n",
       "    .dataframe tbody tr th {\n",
       "        vertical-align: top;\n",
       "    }\n",
       "\n",
       "    .dataframe thead th {\n",
       "        text-align: right;\n",
       "    }\n",
       "</style>\n",
       "<table border=\"1\" class=\"dataframe\">\n",
       "  <thead>\n",
       "    <tr style=\"text-align: right;\">\n",
       "      <th></th>\n",
       "      <th>depth</th>\n",
       "    </tr>\n",
       "  </thead>\n",
       "  <tbody>\n",
       "    <tr>\n",
       "      <th>0</th>\n",
       "      <td>198</td>\n",
       "    </tr>\n",
       "    <tr>\n",
       "      <th>1</th>\n",
       "      <td>208</td>\n",
       "    </tr>\n",
       "    <tr>\n",
       "      <th>2</th>\n",
       "      <td>209</td>\n",
       "    </tr>\n",
       "    <tr>\n",
       "      <th>3</th>\n",
       "      <td>212</td>\n",
       "    </tr>\n",
       "    <tr>\n",
       "      <th>4</th>\n",
       "      <td>213</td>\n",
       "    </tr>\n",
       "  </tbody>\n",
       "</table>\n",
       "</div>"
      ],
      "text/plain": [
       "   depth\n",
       "0    198\n",
       "1    208\n",
       "2    209\n",
       "3    212\n",
       "4    213"
      ]
     },
     "execution_count": 1,
     "metadata": {},
     "output_type": "execute_result"
    }
   ],
   "source": [
    "import pandas as pd\n",
    "\n",
    "d = pd.read_csv('data/aoc-1.1.txt', names=['depth'])\n",
    "d.head()"
   ]
  },
  {
   "cell_type": "code",
   "execution_count": 2,
   "id": "57f8b0ed-93d4-44fe-bebe-76d0e2f5cb6f",
   "metadata": {},
   "outputs": [
    {
     "data": {
      "text/plain": [
       "1791"
      ]
     },
     "execution_count": 2,
     "metadata": {},
     "output_type": "execute_result"
    }
   ],
   "source": [
    "d['prev'] = d.shift(1)\n",
    "d['increase'] = d['depth'] > d['prev']\n",
    "d.increase.sum()"
   ]
  },
  {
   "cell_type": "markdown",
   "id": "d8336d69-9aa5-4d49-9070-ca4c8d0a6bd2",
   "metadata": {},
   "source": [
    "## Part 2\n",
    "Now use the sum of a moving 3-measurement window"
   ]
  },
  {
   "cell_type": "code",
   "execution_count": 19,
   "id": "973a9a71-c07f-4d0f-8332-028bc97f4ff8",
   "metadata": {},
   "outputs": [
    {
     "data": {
      "text/plain": [
       "1822"
      ]
     },
     "execution_count": 19,
     "metadata": {},
     "output_type": "execute_result"
    }
   ],
   "source": [
    "d = pd.read_csv('data/aoc-1.1.txt', names=['depth'])\n",
    "d['prev'] = d.shift(1)\n",
    "d['prev2'] = d['prev'].shift(1)\n",
    "d['block'] = d.iloc[:, 0:3].sum(axis=1) # sum the first three columns\n",
    "d.dropna(inplace=True) # remove rows without valid block scores\n",
    "d['pblock'] = d['block'].shift(1)\n",
    "d['block_inc'] = d['block'] > d['pblock']\n",
    "d.block_inc.sum()"
   ]
  },
  {
   "cell_type": "markdown",
   "id": "0e4c0b70-2820-44d9-9d96-427ecfb39897",
   "metadata": {},
   "source": [
    "# Day 2: Dive!"
   ]
  },
  {
   "cell_type": "code",
   "execution_count": 4,
   "id": "14a1136f-7bfb-4500-be63-889ff2d27faa",
   "metadata": {},
   "outputs": [
    {
     "data": {
      "text/html": [
       "<div>\n",
       "<style scoped>\n",
       "    .dataframe tbody tr th:only-of-type {\n",
       "        vertical-align: middle;\n",
       "    }\n",
       "\n",
       "    .dataframe tbody tr th {\n",
       "        vertical-align: top;\n",
       "    }\n",
       "\n",
       "    .dataframe thead th {\n",
       "        text-align: right;\n",
       "    }\n",
       "</style>\n",
       "<table border=\"1\" class=\"dataframe\">\n",
       "  <thead>\n",
       "    <tr style=\"text-align: right;\">\n",
       "      <th></th>\n",
       "      <th>direction</th>\n",
       "      <th>distance</th>\n",
       "    </tr>\n",
       "  </thead>\n",
       "  <tbody>\n",
       "    <tr>\n",
       "      <th>0</th>\n",
       "      <td>forward</td>\n",
       "      <td>9</td>\n",
       "    </tr>\n",
       "    <tr>\n",
       "      <th>1</th>\n",
       "      <td>forward</td>\n",
       "      <td>7</td>\n",
       "    </tr>\n",
       "    <tr>\n",
       "      <th>2</th>\n",
       "      <td>down</td>\n",
       "      <td>7</td>\n",
       "    </tr>\n",
       "    <tr>\n",
       "      <th>3</th>\n",
       "      <td>down</td>\n",
       "      <td>3</td>\n",
       "    </tr>\n",
       "    <tr>\n",
       "      <th>4</th>\n",
       "      <td>forward</td>\n",
       "      <td>2</td>\n",
       "    </tr>\n",
       "  </tbody>\n",
       "</table>\n",
       "</div>"
      ],
      "text/plain": [
       "  direction  distance\n",
       "0   forward         9\n",
       "1   forward         7\n",
       "2      down         7\n",
       "3      down         3\n",
       "4   forward         2"
      ]
     },
     "execution_count": 4,
     "metadata": {},
     "output_type": "execute_result"
    }
   ],
   "source": [
    "import pandas as pd\n",
    "\n",
    "d = pd.read_csv('data/aoc-2.txt', names=['direction', 'distance'], delim_whitespace=True)\n",
    "d.head()"
   ]
  },
  {
   "cell_type": "code",
   "execution_count": 9,
   "id": "7fa789bd-7a46-47c0-bd83-01e510612ab1",
   "metadata": {},
   "outputs": [
    {
     "data": {
      "text/plain": [
       "1882980"
      ]
     },
     "execution_count": 9,
     "metadata": {},
     "output_type": "execute_result"
    }
   ],
   "source": [
    "d_horizontal = d['distance'][d['direction'] == 'forward'].sum()\n",
    "d_up = d['distance'][d['direction'] == 'up'].sum()\n",
    "d_down = d['distance'][d['direction'] == 'down'].sum()\n",
    "d_vertical = d_down - d_up\n",
    "d_horizontal * d_vertical"
   ]
  },
  {
   "cell_type": "markdown",
   "id": "aad47c25-4d81-44da-a406-cf8f7d1a135a",
   "metadata": {},
   "source": [
    "## Part 2\n",
    "We actually need to track `aim`\n",
    "* `down X` *increases* aim by `X`\n",
    "* `up X` *decreases* aim by `X`\n",
    "* `forward X` (1) increases horizontal positional by `X` and (2) increases depth by `aim` *multiplied* by `X`"
   ]
  },
  {
   "cell_type": "code",
   "execution_count": 13,
   "id": "b6bf8591-ba5b-45f3-aec6-db772b1f2a4e",
   "metadata": {},
   "outputs": [
    {
     "data": {
      "text/plain": [
       "1971232560"
      ]
     },
     "execution_count": 13,
     "metadata": {},
     "output_type": "execute_result"
    }
   ],
   "source": [
    "aim = 0\n",
    "dist = 0\n",
    "depth = 0\n",
    "\n",
    "for ii in d.index:\n",
    "    direction = d['direction'][ii]\n",
    "    X = d['distance'][ii]\n",
    "    if direction == 'forward':\n",
    "        dist += X\n",
    "        depth += aim * X\n",
    "    elif direction == 'up':\n",
    "        aim -= X\n",
    "    else:\n",
    "        aim += X\n",
    "dist * depth"
   ]
  }
 ],
 "metadata": {
  "kernelspec": {
   "display_name": "Python 3",
   "language": "python",
   "name": "python3"
  },
  "language_info": {
   "codemirror_mode": {
    "name": "ipython",
    "version": 3
   },
   "file_extension": ".py",
   "mimetype": "text/x-python",
   "name": "python",
   "nbconvert_exporter": "python",
   "pygments_lexer": "ipython3",
   "version": "3.7.9"
  }
 },
 "nbformat": 4,
 "nbformat_minor": 5
}
