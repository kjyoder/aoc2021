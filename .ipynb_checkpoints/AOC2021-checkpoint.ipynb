{
 "cells": [
  {
   "cell_type": "markdown",
   "id": "7cc7c5ba-5991-4863-a2a0-bfee07342401",
   "metadata": {},
   "source": [
    "# Day 1\n",
    "\n",
    "## Part 1\n",
    "Count number of times depth reading differs from previous"
   ]
  },
  {
   "cell_type": "code",
   "execution_count": 1,
   "id": "229cc68f-53d5-41be-9fe0-da21d290d78a",
   "metadata": {},
   "outputs": [
    {
     "data": {
      "text/html": [
       "<div>\n",
       "<style scoped>\n",
       "    .dataframe tbody tr th:only-of-type {\n",
       "        vertical-align: middle;\n",
       "    }\n",
       "\n",
       "    .dataframe tbody tr th {\n",
       "        vertical-align: top;\n",
       "    }\n",
       "\n",
       "    .dataframe thead th {\n",
       "        text-align: right;\n",
       "    }\n",
       "</style>\n",
       "<table border=\"1\" class=\"dataframe\">\n",
       "  <thead>\n",
       "    <tr style=\"text-align: right;\">\n",
       "      <th></th>\n",
       "      <th>depth</th>\n",
       "    </tr>\n",
       "  </thead>\n",
       "  <tbody>\n",
       "    <tr>\n",
       "      <th>0</th>\n",
       "      <td>198</td>\n",
       "    </tr>\n",
       "    <tr>\n",
       "      <th>1</th>\n",
       "      <td>208</td>\n",
       "    </tr>\n",
       "    <tr>\n",
       "      <th>2</th>\n",
       "      <td>209</td>\n",
       "    </tr>\n",
       "    <tr>\n",
       "      <th>3</th>\n",
       "      <td>212</td>\n",
       "    </tr>\n",
       "    <tr>\n",
       "      <th>4</th>\n",
       "      <td>213</td>\n",
       "    </tr>\n",
       "  </tbody>\n",
       "</table>\n",
       "</div>"
      ],
      "text/plain": [
       "   depth\n",
       "0    198\n",
       "1    208\n",
       "2    209\n",
       "3    212\n",
       "4    213"
      ]
     },
     "execution_count": 1,
     "metadata": {},
     "output_type": "execute_result"
    }
   ],
   "source": [
    "import pandas as pd\n",
    "\n",
    "d = pd.read_csv('data/aoc-1.1.txt', names=['depth'])\n",
    "d.head()"
   ]
  },
  {
   "cell_type": "code",
   "execution_count": 2,
   "id": "57f8b0ed-93d4-44fe-bebe-76d0e2f5cb6f",
   "metadata": {},
   "outputs": [
    {
     "data": {
      "text/plain": [
       "1791"
      ]
     },
     "execution_count": 2,
     "metadata": {},
     "output_type": "execute_result"
    }
   ],
   "source": [
    "d['prev'] = d.shift(1)\n",
    "d['increase'] = d['depth'] > d['prev']\n",
    "d.increase.sum()"
   ]
  },
  {
   "cell_type": "markdown",
   "id": "d8336d69-9aa5-4d49-9070-ca4c8d0a6bd2",
   "metadata": {},
   "source": [
    "## Part 2\n",
    "Now use the sum of a moving 3-measurement window"
   ]
  },
  {
   "cell_type": "code",
   "execution_count": 19,
   "id": "973a9a71-c07f-4d0f-8332-028bc97f4ff8",
   "metadata": {},
   "outputs": [
    {
     "data": {
      "text/plain": [
       "1822"
      ]
     },
     "execution_count": 19,
     "metadata": {},
     "output_type": "execute_result"
    }
   ],
   "source": [
    "d = pd.read_csv('data/aoc-1.1.txt', names=['depth'])\n",
    "d['prev'] = d.shift(1)\n",
    "d['prev2'] = d['prev'].shift(1)\n",
    "d['block'] = d.iloc[:, 0:3].sum(axis=1) # sum the first three columns\n",
    "d.dropna(inplace=True) # remove rows without valid block scores\n",
    "d['pblock'] = d['block'].shift(1)\n",
    "d['block_inc'] = d['block'] > d['pblock']\n",
    "d.block_inc.sum()"
   ]
  },
  {
   "cell_type": "code",
   "execution_count": null,
   "id": "56898893-f6fb-42f2-a07d-00a0b278b79b",
   "metadata": {},
   "outputs": [],
   "source": []
  }
 ],
 "metadata": {
  "kernelspec": {
   "display_name": "Python 3",
   "language": "python",
   "name": "python3"
  },
  "language_info": {
   "codemirror_mode": {
    "name": "ipython",
    "version": 3
   },
   "file_extension": ".py",
   "mimetype": "text/x-python",
   "name": "python",
   "nbconvert_exporter": "python",
   "pygments_lexer": "ipython3",
   "version": "3.7.6"
  }
 },
 "nbformat": 4,
 "nbformat_minor": 5
}
